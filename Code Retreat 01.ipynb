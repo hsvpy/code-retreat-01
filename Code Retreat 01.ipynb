{
 "cells": [
  {
   "cell_type": "markdown",
   "metadata": {
    "slideshow": {
     "slide_type": "slide"
    }
   },
   "source": [
    "# Welcome to HSV.py Coding Retreat"
   ]
  },
  {
   "cell_type": "markdown",
   "metadata": {
    "slideshow": {
     "slide_type": "slide"
    }
   },
   "source": [
    "# Overall Objective"
   ]
  },
  {
   "cell_type": "markdown",
   "metadata": {
    "collapsed": true,
    "slideshow": {
     "slide_type": "subslide"
    }
   },
   "source": [
    "## This is a social event, where we are focused on learning."
   ]
  },
  {
   "cell_type": "markdown",
   "metadata": {
    "slideshow": {
     "slide_type": "subslide"
    }
   },
   "source": [
    "Pair up, solve a challlege, review it\n",
    "Remix it!"
   ]
  },
  {
   "cell_type": "markdown",
   "metadata": {
    "slideshow": {
     "slide_type": "subslide"
    }
   },
   "source": [
    "Specifically, PyBites Challenge 01"
   ]
  },
  {
   "cell_type": "markdown",
   "metadata": {
    "slideshow": {
     "slide_type": "subslide"
    }
   },
   "source": [
    "![Scrabble](http://www.twoop.com/wp-content/uploads/2015/01/scrabble.jpg)"
   ]
  },
  {
   "cell_type": "markdown",
   "metadata": {
    "slideshow": {
     "slide_type": "subslide"
    }
   },
   "source": [
    "## We're going to fill in some functions, and the goal is to get our unit tests to pass\n",
    "\n",
    "* Given the values of scrabble tiles, figure out the score of a word\n",
    "* Given a list of words, find the word with the maximum value\n"
   ]
  },
  {
   "cell_type": "markdown",
   "metadata": {
    "slideshow": {
     "slide_type": "slide"
    }
   },
   "source": [
    "# But before we begin...."
   ]
  },
  {
   "cell_type": "markdown",
   "metadata": {
    "collapsed": true,
    "slideshow": {
     "slide_type": "subslide"
    }
   },
   "source": [
    "## Ground Rules\n",
    "* This is a social event, you will be pair programming.  Switch out throughout the problem.\n",
    "* Treat everyone here like a smart human being interested in Python\n",
    "* Go into each session looking to learn something\n",
    "* Respect work environments (No Emacs/Vim Holy wars.... because we know Vim is the best :) )\n",
    "* If somebody doesn't know tips/tricks/editors, etc.... teach them, don't shame them.  This is a learning activity.\n",
    "* Before you start typing, discuss what you're going to do with your partner.  Neither person should dominate the typing or the problem-solving.\n",
    "* If you're a beginner, feel free to ask for help or review.  If you're an expert, feel free to teach (But no well, actually... unless your partner asks for a better way)\n",
    "* Have fun!"
   ]
  },
  {
   "cell_type": "markdown",
   "metadata": {
    "slideshow": {
     "slide_type": "slide"
    }
   },
   "source": [
    "# First, clone the project\n",
    "\n",
    "```git clone https://github.com/hsvpy/code-retreat-01```"
   ]
  },
  {
   "cell_type": "markdown",
   "metadata": {
    "slideshow": {
     "slide_type": "subslide"
    }
   },
   "source": [
    "# Pair Up!\n",
    "\n",
    "## Introduce yourself.  Hi, I'm \"name\".  I work at \"company.\"  I'm \"Just getting started with Python\" | \"Work with Python a bit\" | \"Use Python every day\"\n",
    "\n",
    "## Pick somebody's computer for your workstation, pick an editor, and designate who types first.  (We will swap out every few minutes)."
   ]
  },
  {
   "cell_type": "markdown",
   "metadata": {
    "slideshow": {
     "slide_type": "subslide"
    }
   },
   "source": [
    "# And GO!"
   ]
  },
  {
   "cell_type": "markdown",
   "metadata": {
    "slideshow": {
     "slide_type": "subslide"
    }
   },
   "source": [
    "## Your Goal\n",
    "\n",
    "Get Unit Tests to pass\n",
    "\n",
    "```python -m unittest discover```\n",
    "\n",
    "Challenge Mode - Feature Creep:\n",
    "Write a function (and test) that takes in any amount of letters, and finds the best word that you can make out of those letters. \n",
    "\n",
    "\n",
    "# Python Tips and Tricks"
   ]
  },
  {
   "cell_type": "code",
   "execution_count": 10,
   "metadata": {
    "slideshow": {
     "slide_type": "fragment"
    }
   },
   "outputs": [
    {
     "data": {
      "text/plain": [
       "(3, 5)"
      ]
     },
     "execution_count": 10,
     "metadata": {},
     "output_type": "execute_result"
    }
   ],
   "source": [
    "# {\"a\" : 3, \"b\" : 5} is a dictionary\n",
    "# dictionaries can be looked up by key rather than numeric index (like a list)\n",
    "my_dictionary = {\"a\": 3, \"b\": 5}\n",
    "my_dictionary[\"a\"], my_dictionary[\"b\"]"
   ]
  },
  {
   "cell_type": "code",
   "execution_count": 11,
   "metadata": {
    "slideshow": {
     "slide_type": "fragment"
    }
   },
   "outputs": [
    {
     "data": {
      "text/plain": [
       "{1: 1, 2: 4, 3: 9, 4: 16, 5: 25, 6: 36, 7: 49, 8: 64, 9: 81}"
      ]
     },
     "execution_count": 11,
     "metadata": {},
     "output_type": "execute_result"
    }
   ],
   "source": [
    "# we can create dictionaries from lists\n",
    "numbers = range(1,10)\n",
    "{number: number*number for number in numbers}"
   ]
  },
  {
   "cell_type": "markdown",
   "metadata": {
    "slideshow": {
     "slide_type": "subslide"
    }
   },
   "source": [
    "# Review"
   ]
  },
  {
   "cell_type": "code",
   "execution_count": null,
   "metadata": {
    "collapsed": true,
    "slideshow": {
     "slide_type": "subslide"
    }
   },
   "outputs": [],
   "source": [
    "from data import DICTIONARY, LETTER_SCORES\n",
    "from multiset import Multiset # pip installed\n",
    "def load_words():\n",
    "    \"\"\"Load dictionary into a list and return list\"\"\"\n",
    "    with open(DICTIONARY) as f:\n",
    "        words = []\n",
    "        for word in f.readlines():\n",
    "            words.append(word.strip())\n",
    "        return words\n",
    "\n",
    "def calc_word_value(word):\n",
    "    \"\"\"Calculate the value of the word entered into function\n",
    "    using imported constant mapping LETTER_SCORES\"\"\" \n",
    "    letter_scores = 0\n",
    "    for letter in word.upper():\n",
    "        letter_scores += LETTER_SCORES.get(letter, 0)\n",
    "    return letter_scores\n",
    "\n",
    "def max_word_value(words=load_words()):\n",
    "    \"\"\"Calculate the word with the max value, can receive a list\n",
    "    of words as arg, if none provided uses default DICTIONARY\"\"\"\n",
    "    max_word = \"\"\n",
    "    max_value = 0\n",
    "    for word in words:\n",
    "        if calc_word_value(word) > max_value:\n",
    "            max_value = calc_word_value(word)\n",
    "            max_word = word\n",
    "    return max_word\n",
    "\n",
    "def get_highest_scoring_word(letters):\n",
    "    matches = []\n",
    "    for word in load_words():\n",
    "        if Multiset(word).issubset(Multiset(letters)):\n",
    "            matches.append(word)\n",
    "    return max_word_value(matches)"
   ]
  },
  {
   "cell_type": "markdown",
   "metadata": {
    "slideshow": {
     "slide_type": "slide"
    }
   },
   "source": [
    "# Pair Up with someone new!\n",
    "\n",
    "## Introduce yourself.  Hi, I'm \"name\".  I work at \"company.\"  I'm \"Just getting started with Python\" | \"Work with Python a bit\" | \"Use Python every day\"\n",
    "\n",
    "## Pick somebody's computer for your workstation, pick an editor, and designate who types first.  (We will swap out every few minutes)."
   ]
  },
  {
   "cell_type": "markdown",
   "metadata": {
    "collapsed": true,
    "slideshow": {
     "slide_type": "subslide"
    }
   },
   "source": [
    "# ERASE YOUR PROGRESS\n",
    "\n",
    "(No copying it, saving it, git push, etc.)\n",
    "Start from a clean slate"
   ]
  },
  {
   "cell_type": "markdown",
   "metadata": {
    "slideshow": {
     "slide_type": "subslide"
    }
   },
   "source": [
    "# NEXT UP: No Raw Loops!"
   ]
  },
  {
   "cell_type": "markdown",
   "metadata": {
    "slideshow": {
     "slide_type": "subslide"
    }
   },
   "source": [
    "# Your Goal \n",
    "\n",
    "Get Unit Tests to pass without using for loops or while loops\n",
    "\n",
    "```python -m unittest discover```\n",
    "\n",
    "# Python Tips and Tricks"
   ]
  },
  {
   "cell_type": "code",
   "execution_count": 12,
   "metadata": {
    "slideshow": {
     "slide_type": "fragment"
    }
   },
   "outputs": [
    {
     "data": {
      "text/plain": [
       "[1, 4, 9, 16, 25, 36, 49, 64, 81]"
      ]
     },
     "execution_count": 12,
     "metadata": {},
     "output_type": "execute_result"
    }
   ],
   "source": [
    "# Raw Loop\n",
    "nums = []\n",
    "for num in range(1, 10):\n",
    "    nums.append(num * num)\n",
    "nums\n",
    "    "
   ]
  },
  {
   "cell_type": "code",
   "execution_count": 13,
   "metadata": {
    "slideshow": {
     "slide_type": "fragment"
    }
   },
   "outputs": [
    {
     "data": {
      "text/plain": [
       "[1, 4, 9, 16, 25, 36, 49, 64, 81]"
      ]
     },
     "execution_count": 13,
     "metadata": {},
     "output_type": "execute_result"
    }
   ],
   "source": [
    "# list comprehensions\n",
    "[num*num for num in range(1,10)]"
   ]
  },
  {
   "cell_type": "code",
   "execution_count": 15,
   "metadata": {
    "slideshow": {
     "slide_type": "fragment"
    }
   },
   "outputs": [
    {
     "data": {
      "text/plain": [
       "[1, 4, 9, 16, 25, 36, 49, 64, 81]"
      ]
     },
     "execution_count": 15,
     "metadata": {},
     "output_type": "execute_result"
    }
   ],
   "source": [
    "# functional patterns (map, filter, reduce)\n",
    "list(map(lambda x: x*x, range(1,10)))"
   ]
  },
  {
   "cell_type": "code",
   "execution_count": 19,
   "metadata": {
    "slideshow": {
     "slide_type": "fragment"
    }
   },
   "outputs": [
    {
     "data": {
      "text/plain": [
       "[1, 4, 9, 16, 25, 36, 49, 64, 81]"
      ]
     },
     "execution_count": 19,
     "metadata": {},
     "output_type": "execute_result"
    }
   ],
   "source": [
    "# recursion\n",
    "def square(nums):\n",
    "    if nums == []:\n",
    "        return []\n",
    "    return [nums[0] * nums[0]] + square(nums[1:])\n",
    "square(list(range(1,10)))"
   ]
  },
  {
   "cell_type": "markdown",
   "metadata": {
    "slideshow": {
     "slide_type": "subslide"
    }
   },
   "source": [
    "# Review"
   ]
  },
  {
   "cell_type": "code",
   "execution_count": null,
   "metadata": {
    "collapsed": true,
    "slideshow": {
     "slide_type": "subslide"
    }
   },
   "outputs": [],
   "source": [
    "def load_words():\n",
    "    \"\"\"Load dictionary into a list and return list\"\"\"\n",
    "    with open(DICTIONARY) as f:\n",
    "        return [line.strip() for line in f.readlines()]\n",
    "\n",
    "def calc_word_value(word):\n",
    "    \"\"\"Calculate the value of the word entered into function\n",
    "    using imported constant mapping LETTER_SCORES\"\"\"\n",
    "    return sum([LETTER_SCORES.get(letter, 0) for letter in word.upper()])\n",
    "\n",
    "def max_word_value(words=load_words()):\n",
    "    \"\"\"Calculate the word with the max value, can receive a list\n",
    "    of words as arg, if none provided uses default DICTIONARY\"\"\"\n",
    "    return max(words, key=calc_word_value)"
   ]
  },
  {
   "cell_type": "code",
   "execution_count": null,
   "metadata": {
    "collapsed": true,
    "slideshow": {
     "slide_type": "fragment"
    }
   },
   "outputs": [],
   "source": [
    "import string\n",
    "\n",
    "from functools import reduce\n",
    "from data import DICTIONARY, LETTER_SCORES\n",
    "\n",
    "\n",
    "def load_words():\n",
    "    \"\"\"Load dictionary into a list and return list\"\"\"\n",
    "    with open(DICTIONARY) as f:\n",
    "        return map(string.strip, f.readlines())\n",
    "\n",
    "def calc_word_value(word):\n",
    "    \"\"\"Calculate the value of the word entered into function\n",
    "    using imported constant mapping LETTER_SCORES\"\"\"\n",
    "    return reduce(lambda score, letter: score + LETTER_SCORES.get(letter, 0), word.upper(), 0)\n",
    "\n",
    "def max_word_value(words=load_words()):\n",
    "    \"\"\"Calculate the word with the max value, can receive a list\n",
    "    of words as arg, if none provided uses default DICTIONARY\"\"\"\n",
    "    return max(words, key=calc_word_value)\n"
   ]
  },
  {
   "cell_type": "markdown",
   "metadata": {
    "slideshow": {
     "slide_type": "slide"
    }
   },
   "source": [
    "# Pair Up with someone new!\n",
    "\n",
    "## Introduce yourself.  Hi, I'm \"name\".  I work at \"company.\"  I'm \"Just getting started with Python\" | \"Work with Python a bit\" | \"Use Python every day\"\n",
    "\n",
    "## Pick somebody's computer for your workstation, pick an editor, and designate who types first.  (We will swap out every few minutes)."
   ]
  },
  {
   "cell_type": "markdown",
   "metadata": {
    "collapsed": true,
    "slideshow": {
     "slide_type": "subslide"
    }
   },
   "source": [
    "# ERASE YOUR PROGRESS\n",
    "\n",
    "(No copying it, saving it, git push, etc.)\n",
    "Start from a clean slate"
   ]
  },
  {
   "cell_type": "markdown",
   "metadata": {
    "slideshow": {
     "slide_type": "subslide"
    }
   },
   "source": [
    "# NEXT UP: Linting"
   ]
  },
  {
   "cell_type": "markdown",
   "metadata": {
    "slideshow": {
     "slide_type": "subslide"
    }
   },
   "source": [
    "We are going to use pylint to make our code without the fuzz\n",
    "\n",
    "```pip3 install pylint```"
   ]
  },
  {
   "cell_type": "markdown",
   "metadata": {
    "slideshow": {
     "slide_type": "subslide"
    }
   },
   "source": [
    "# Your Goal \n",
    "\n",
    "Get Unit Tests and pylint to pass\n",
    "\n",
    "```\n",
    "python -m unittest discover\n",
    "pylint wordvalue.py\n",
    "```\n",
    "\n",
    "Challenge Mode - Referential Transparency:\n",
    "The only variables you can use are ones that are defined as function parameters (you must close the file afterwards).  That means loops and comprehensions are out!\n",
    "\n",
    "\n",
    "# Python Tips and Tricks"
   ]
  },
  {
   "cell_type": "markdown",
   "metadata": {
    "slideshow": {
     "slide_type": "subslide"
    }
   },
   "source": [
    "# Review"
   ]
  },
  {
   "cell_type": "code",
   "execution_count": null,
   "metadata": {
    "collapsed": true,
    "slideshow": {
     "slide_type": "subslide"
    }
   },
   "outputs": [],
   "source": [
    "\"\"\" Calculate the wordavlue for code retreat 01\"\"\"\n",
    "import string\n",
    "from data import DICTIONARY, LETTER_SCORES\n",
    "\n",
    "def _read_file(open_handle):\n",
    "    try:\n",
    "        return map(string.strip, open_handle.readlines())\n",
    "    finally:\n",
    "        open_handle.close()\n",
    "\n",
    "\n",
    "def load_words():\n",
    "    \"\"\"Load dictionary into a list and return list\"\"\"\n",
    "    return _read_file(open(DICTIONARY))\n",
    "\n",
    "def _get_letter_score(letter):\n",
    "    return LETTER_SCORES.get(letter.upper(), 0)\n",
    "\n",
    "def calc_word_value(word):\n",
    "    \"\"\"Calculate the value of the word entered into function\n",
    "    using imported constant mapping LETTER_SCORES\"\"\"\n",
    "    return sum(map(_get_letter_score, word))\n",
    "\n",
    "def max_word_value(words=load_words()):\n",
    "    \"\"\"Calculate the word with the max value, can receive a list\n",
    "    of words as arg, if none provided uses default DICTIONARY\"\"\"\n",
    "    return max(words, key=calc_word_value)\n",
    "\n",
    "if __name__ == \"__main__\":\n",
    "    pass # run unittests to validate\n"
   ]
  },
  {
   "cell_type": "markdown",
   "metadata": {
    "slideshow": {
     "slide_type": "slide"
    }
   },
   "source": [
    "# Pair Up with someone new!\n",
    "\n",
    "## Introduce yourself.  Hi, I'm \"name\".  I work at \"company.\"  I'm \"Just getting started with Python\" | \"Work with Python a bit\" | \"Use Python every day\"\n",
    "\n",
    "## Pick somebody's computer for your workstation, pick an editor, and designate who types first.  (We will swap out every few minutes)."
   ]
  },
  {
   "cell_type": "markdown",
   "metadata": {
    "collapsed": true,
    "slideshow": {
     "slide_type": "subslide"
    }
   },
   "source": [
    "# ERASE YOUR PROGRESS\n",
    "\n",
    "(No copying it, saving it, git push, etc.)\n",
    "Start from a clean slate\n",
    "\n",
    "```git reset --hard HEAD``` works great :)"
   ]
  },
  {
   "cell_type": "markdown",
   "metadata": {
    "slideshow": {
     "slide_type": "subslide"
    }
   },
   "source": [
    "# Code Golf\n"
   ]
  },
  {
   "cell_type": "markdown",
   "metadata": {
    "slideshow": {
     "slide_type": "subslide"
    }
   },
   "source": [
    "## Who can solve the problem in the smallest amount of code?\n"
   ]
  },
  {
   "cell_type": "markdown",
   "metadata": {
    "slideshow": {
     "slide_type": "subslide"
    }
   },
   "source": [
    "# Your Goal \n",
    "\n",
    "Get Unit Tests to pass with wordvalue.py being as small as possible (no extra files!)\n",
    "You MUST close the file after you use it.\n",
    "\n",
    "```\n",
    "python -m unittest discover\n",
    "```\n",
    "\n",
    "Challenge Mode - High Score:\n",
    "Meet or beat Pat's score -> 242 bytes on Python 3, 64-bit Ubuntu.\n",
    "\n",
    "\n",
    "# Python Tips and Tricks"
   ]
  },
  {
   "cell_type": "markdown",
   "metadata": {
    "slideshow": {
     "slide_type": "subslide"
    }
   },
   "source": [
    "# Review"
   ]
  },
  {
   "cell_type": "code",
   "execution_count": null,
   "metadata": {
    "collapsed": true,
    "slideshow": {
     "slide_type": "subslide"
    }
   },
   "outputs": [],
   "source": [
    "from data import DICTIONARY as d,LETTER_SCORES as l\n",
    "def x():\n",
    " with open(d) as f:return list(map(str.strip,f.readlines()))\n",
    "y=lambda w:sum([l.get(i.upper(),0) for i in w])\n",
    "load_words,calc_word_value,max_word_value=x,y,lambda w=x():max(w,key=y)"
   ]
  },
  {
   "cell_type": "markdown",
   "metadata": {
    "slideshow": {
     "slide_type": "slide"
    }
   },
   "source": [
    "# Pair Up with someone new!\n",
    "\n",
    "## Introduce yourself.  Hi, I'm \"name\".  I work at \"company.\"  I'm \"Just getting started with Python\" | \"Work with Python a bit\" | \"Use Python every day\"\n",
    "\n",
    "## Pick somebody's computer for your workstation, pick an editor, and designate who types first.  (We will swap out every few minutes)."
   ]
  },
  {
   "cell_type": "markdown",
   "metadata": {
    "collapsed": true,
    "slideshow": {
     "slide_type": "subslide"
    }
   },
   "source": [
    "# ERASE YOUR PROGRESS\n",
    "\n",
    "(No copying it, saving it, git push, etc.)\n",
    "Start from a clean slate\n",
    "\n",
    "```git reset --hard HEAD``` works great :)"
   ]
  },
  {
   "cell_type": "markdown",
   "metadata": {
    "slideshow": {
     "slide_type": "subslide"
    }
   },
   "source": [
    "# Graphing with matplotlib"
   ]
  },
  {
   "cell_type": "markdown",
   "metadata": {
    "slideshow": {
     "slide_type": "subslide"
    }
   },
   "source": [
    "## This is more of a free-for-all\n",
    "\n",
    "Let's see what interesting visualizaitons we can make using matplotlib\n",
    "\n",
    "```pip install matplotlib```"
   ]
  },
  {
   "cell_type": "markdown",
   "metadata": {
    "slideshow": {
     "slide_type": "subslide"
    }
   },
   "source": [
    "# Your Goal \n",
    "\n",
    "Make a visualization using matplotlib\n",
    "\n",
    "# Python Tips and Tricks"
   ]
  },
  {
   "cell_type": "code",
   "execution_count": 30,
   "metadata": {
    "slideshow": {
     "slide_type": "fragment"
    }
   },
   "outputs": [],
   "source": [
    "import matplotlib.pyplot as plt; plt.rcdefaults()\n",
    "import numpy as np\n",
    "import matplotlib.pyplot as plt\n",
    " \n",
    "objects = ('Python', 'C++', 'Java', 'Perl', 'Scala', 'Lisp')\n",
    "y_pos = np.arange(len(objects))\n",
    "performance = [10,8,6,4,2,1]\n",
    " \n",
    "fig = plt.bar(y_pos, performance, align='center', alpha=0.5)\n",
    "plt.xticks(y_pos, objects)\n",
    "plt.ylabel('Usage')\n",
    "plt.title('Programming language usage')\n",
    " \n",
    "# Use savefig for the exercise.\n",
    "plt.show()\n",
    "# plt.savefig('foo.png')\n"
   ]
  },
  {
   "cell_type": "markdown",
   "metadata": {
    "slideshow": {
     "slide_type": "subslide"
    }
   },
   "source": [
    "# Review"
   ]
  },
  {
   "cell_type": "code",
   "execution_count": 31,
   "metadata": {
    "slideshow": {
     "slide_type": "subslide"
    }
   },
   "outputs": [
    {
     "data": {
      "image/png": "[encoded data removed]",
      "text/plain": [
       "<matplotlib.figure.Figure at 0x7f68608eef98>"
      ]
     },
     "metadata": {},
     "output_type": "display_data"
    }
   ],
   "source": [
    "import matplotlib.pyplot as plt; plt.rcdefaults()\n",
    "import numpy as np\n",
    "import matplotlib.pyplot as plt\n",
    "from data import DICTIONARY, LETTER_SCORES\n",
    "from collections import Counter\n",
    "\n",
    "def get_score(word):\n",
    "    return sum([LETTER_SCORES.get(letter, 0) for letter in word])\n",
    "\n",
    "with open(DICTIONARY) as f: my .gitignore \n",
    "    words = [line.strip() for line in f.readlines()]\n",
    "\n",
    "    scores = [get_score(word.upper()) for word in words]\n",
    "    score_counter = Counter(scores)\n",
    "\n",
    "    objects = ('Python', 'C++', 'Java', 'Perl', 'Scala', 'Lisp')\n",
    "    y_pos = np.arange(len(score_counter.keys()))\n",
    "    \n",
    "    fig = plt.bar(y_pos, score_counter.values(), align='center', alpha=0.5)\n",
    "    plt.xticks(y_pos, score_counter.keys())\n",
    "    plt.ylabel('Number of words')\n",
    "    plt.title('Score frequency')\n",
    "    \n",
    "    # Use savefig for the exercise.\n",
    "    plt.show()\n",
    "    # plt.savefig('foo.png')"
   ]
  },
  {
   "cell_type": "markdown",
   "metadata": {
    "slideshow": {
     "slide_type": "slide"
    }
   },
   "source": [
    "# Overall Review\n",
    "\n",
    "* What did you like about this\n",
    "* What did you dislike\n",
    "* What did you learn about\n",
    "* What did you find surprising"
   ]
  },
  {
   "cell_type": "markdown",
   "metadata": {
    "slideshow": {
     "slide_type": "slide"
    }
   },
   "source": [
    "# Thank you"
   ]
  },
  {
   "cell_type": "code",
   "execution_count": null,
   "metadata": {
    "collapsed": true
   },
   "outputs": [],
   "source": []
  }
 ],
 "metadata": {
  "celltoolbar": "Slideshow",
  "kernelspec": {
   "display_name": "Python 3",
   "language": "python",
   "name": "python3"
  },
  "language_info": {
   "codemirror_mode": {
    "name": "ipython",
    "version": 3
   },
   "file_extension": ".py",
   "mimetype": "text/x-python",
   "name": "python",
   "nbconvert_exporter": "python",
   "pygments_lexer": "ipython3",
   "version": "3.6.1"
  }
 },
 "nbformat": 4,
 "nbformat_minor": 2
}
